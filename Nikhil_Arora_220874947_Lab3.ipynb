{
 "cells": [
  {
   "cell_type": "markdown",
   "id": "8ae5a295",
   "metadata": {},
   "source": [
    "# Lab 3\n",
    "\n",
    "# Nikhil Arora\n",
    "\n",
    "# 220874947"
   ]
  },
  {
   "cell_type": "markdown",
   "id": "5fae3f6d",
   "metadata": {},
   "source": [
    "# Question 1"
   ]
  },
  {
   "cell_type": "code",
   "execution_count": 7,
   "id": "2a72b714",
   "metadata": {},
   "outputs": [
    {
     "name": "stdout",
     "output_type": "stream",
     "text": [
      "(1) One time entry or (2) Multiple entry\n",
      "Enter 1 or 2: 1\n",
      "Selected Age Range:\n",
      "(1) Kid\n",
      "(2) Youth\n",
      "(3) Senior\n",
      "Enter 1, 2, or 32\n",
      "Total amount due: $25.00 [one time entry (full fee)]\n"
     ]
    }
   ],
   "source": [
    "#The code begins by prompting the user for the type of purchase which they desire being either a one time entry or multiple entry and allows them to input there choice as either one or two\n",
    "print(\"(1) One time entry or (2) Multiple entry\")\n",
    "choiceOfPurchase = int(input(\"Enter 1 or 2: \"))\n",
    "\n",
    "#This portion of the code prompts the user for the selected age range they desire and allows them to input a number from 1-3 to select an option\n",
    "print(\"Selected Age Range:\")\n",
    "print(\"(1) Kid\")\n",
    "print(\"(2) Youth\")\n",
    "print(\"(3) Senior\")\n",
    "ageGroup = int(input(\"Enter 1, 2, or 3\"))\n",
    "\n",
    "#if statement used to set the fare price to $25 if a one time entry is selected \n",
    "if choiceOfPurchase == 1:\n",
    "    fare = 25.00\n",
    "#else statement used to set the fare price if a multiple entry is selected\n",
    "else:\n",
    "    fare = 35.00\n",
    "\n",
    "#if statement is used to set a 40% discount for either kids or seniors if selected within the age rang\n",
    "if ageGroup == 1 or ageGroup == 3:\n",
    "    fare *= 0.6\n",
    "\n",
    "#if statement used to print out amount due and reduction of a one time entry (being either reduced or full)\n",
    "if choiceOfPurchase == 1:\n",
    "    print(f\"Total amount due: ${fare:.2f} [one time entry {'(reduced fee)' if ageGroup == 1 or ageGroup == 3 else '(full fee)'}]\")\n",
    "#else statement used to print out amount due and reduction of multiple entry (being either reduced or full)\n",
    "else:\n",
    "    print(f\"Total amount due: ${fare:.2f} [multiple entry {'(reduced fee)' if ageGroup == 1 or ageGroup == 3 else '(full fee)'}]\")\n"
   ]
  },
  {
   "cell_type": "markdown",
   "id": "4815090f",
   "metadata": {},
   "source": [
    "# Question 2"
   ]
  },
  {
   "cell_type": "code",
   "execution_count": 10,
   "id": "e4d67623",
   "metadata": {},
   "outputs": [
    {
     "name": "stdout",
     "output_type": "stream",
     "text": [
      "Keep entering positive integers\n",
      "To quit, input a negative integer\n",
      "Enter a number: 10\n",
      "Enter a number: 11\n",
      "Enter a number: 103\n",
      "Enter a number: 99\n",
      "Enter a number: 88\n",
      "Enter a number: -1\n",
      "Largest odd number: 103\n"
     ]
    }
   ],
   "source": [
    "#largestOddNumber variable initialized to 0 to keep track of the largest odd number being entered\n",
    "largestOddNumber = 0\n",
    "\n",
    "#Print statements used to prompt the user to enter positive integers or enter a negative integer to exit the program\n",
    "print(\"Keep entering positive integers\")\n",
    "print(\"To quit, input a negative integer\")\n",
    "\n",
    "#while loop created to continuously prompt the user for numbers to enter\n",
    "while True:\n",
    "    numberInput = int(input(\"Enter a number: \"))\n",
    "    \n",
    "    #if statement used to check whether the number is negative and exit the program if it is\n",
    "    if numberInput < 0:\n",
    "        break\n",
    "    \n",
    "    #if statement used to check if the number is odd and larger than the current largestOddNumber and if so, store that number in the largestOddNumber variable\n",
    "    if numberInput % 2 == 1 and numberInput > largestOddNumber:\n",
    "        largestOddNumber = numberInput\n",
    "#if statement used to check if the largest odd number was found and print out the number        \n",
    "if largestOddNumber > 0:\n",
    "    print(f\"Largest odd number: {largestOddNumber}\")\n",
    "#else statement used to display a message if no odd number was found\n",
    "else:\n",
    "    print(\"No odd number was provided\")"
   ]
  },
  {
   "cell_type": "markdown",
   "id": "896594be",
   "metadata": {},
   "source": [
    "# Question 3"
   ]
  },
  {
   "cell_type": "code",
   "execution_count": 1,
   "id": "8ed64d10",
   "metadata": {},
   "outputs": [
    {
     "name": "stdout",
     "output_type": "stream",
     "text": [
      "Enter size between 5 and 20: 3\n",
      "Enter size between 5 and 20: 5\n",
      "\\\n",
      "-\\\n",
      "--\\\n",
      "---\\\n",
      "----|\n",
      "---/\n",
      "--/\n",
      "-/\n",
      "/\n"
     ]
    }
   ],
   "source": [
    "#while loop is created to continously prompt the user to enter a number within 5-20, where if a number is not selected in that range keep prompting the user\n",
    "while True:\n",
    "    sizeOfTriangle = int(input(\"Enter size between 5 and 20: \"))\n",
    "    #if statement used to check if the size inputted is within the range\n",
    "    if 5<= sizeOfTriangle <= 20:\n",
    "        break\n",
    "#for loop created for the top portion of the triangle        \n",
    "for i in range(1, sizeOfTriangle + 1):\n",
    "    #if statement used to print a single backslash for the first row\n",
    "    if i == 1:\n",
    "        print(\"\\\\\")\n",
    "    else:\n",
    "        #used to create a string of dashes\n",
    "        dashes = \"-\" * (i - 1)\n",
    "        #if statement used to print dashes and a vertical bar once reaching the initial size of the triangle entered\n",
    "        if i == sizeOfTriangle:\n",
    "            print(dashes + \"|\")\n",
    "        \n",
    "        #else statement used to print dashes and single backslashes for remaining rows if the size of the triangle is not reached\n",
    "        else:\n",
    "            print(dashes + \"\\\\\")\n",
    "\n",
    "#for loop created for the bottom portion of the triangle\n",
    "for i in range(sizeOfTriangle - 1, 0, -1):\n",
    "    #used to create a string of dashes\n",
    "    dashes = \"-\" * (i - 1)\n",
    "    #used to print dashed and single forward slashes till the size of the triangle is reached\n",
    "    print(dashes + \"/\")"
   ]
  },
  {
   "cell_type": "markdown",
   "id": "4f0625ea",
   "metadata": {},
   "source": [
    "# Question 4"
   ]
  },
  {
   "cell_type": "code",
   "execution_count": 26,
   "id": "6fd16355",
   "metadata": {},
   "outputs": [
    {
     "name": "stdout",
     "output_type": "stream",
     "text": [
      "Roll dice how many times? 10\n",
      "[ 4][ 5] 9-- Roll 1:\n",
      "[ 2][ 6] 8-- Roll 2:\n",
      "[ 1][ 1] 2-- Roll 3:\n",
      "[ 1][ 2] 3-- Roll 4:\n",
      "[ 6][ 3] 9-- Roll 5:\n",
      "[ 5][ 5]10-- Roll 6:\n",
      "[ 1][ 5] 6-- Roll 7:\n",
      "[ 2][ 2] 4-- Roll 8:\n",
      "[ 2][ 5] 7-- Roll 9:\n",
      "[ 2][ 3] 5-- Roll 10:\n",
      "Average dice pair value: 6.30\n",
      "Try again [Y/N]? Y\n",
      "Roll dice how many times? 10\n",
      "[ 3][ 3] 6-- Roll 1:\n",
      "[ 6][ 4]10-- Roll 2:\n",
      "[ 1][ 2] 3-- Roll 3:\n",
      "[ 6][ 1] 7-- Roll 4:\n",
      "[ 3][ 6] 9-- Roll 5:\n",
      "[ 5][ 2] 7-- Roll 6:\n",
      "[ 1][ 5] 6-- Roll 7:\n",
      "[ 5][ 1] 6-- Roll 8:\n",
      "[ 5][ 3] 8-- Roll 9:\n",
      "[ 3][ 6] 9-- Roll 10:\n",
      "Average dice pair value: 7.10\n",
      "Try again [Y/N]? N\n"
     ]
    }
   ],
   "source": [
    "#import random is used in order to generate random numbers\n",
    "import random\n",
    "\n",
    "while True:\n",
    "    #input user prompt created to ask the user how many times they would like to roll the dice\n",
    "    numberOfRolls = int(input(\"Roll dice how many times? \"))\n",
    "    #if statement used to redirect the user with a prompt if an invalid number is entered\n",
    "    if numberOfRolls <=0:\n",
    "        print(\"Please enter a positive number of rolls:\")\n",
    "        continue\n",
    "    \n",
    "    #totalSum variable initialized to keep track of the total sum of all the sums\n",
    "    totalSum = 0\n",
    "    \n",
    "    #for loop created to loop through the specified number of rolls\n",
    "    for roll in range(1, numberOfRolls + 1):\n",
    "        #firstDice variable created to generate a random number for the first die\n",
    "        firstDice = random.randint(1,6)\n",
    "        #secondDice variable created to generate a random number for the second die\n",
    "        secondDice = random.randint(1,6)\n",
    "        #sumOfRoll variable created to calculate the sum of the two dice\n",
    "        sumOfRoll = firstDice + secondDice\n",
    "        #totalSum variable is updated by adding the sumOfRoll value to totalSum\n",
    "        totalSum += sumOfRoll\n",
    "        #print statement used to print the values of die accordingly\n",
    "        print(f\"[{firstDice:2}][{secondDice:2}]{sumOfRoll:2}-- Roll {roll}:\")\n",
    "    \n",
    "    #average variable created to calculate the average of the dice rolls\n",
    "    average = totalSum/numberOfRolls\n",
    "    print(f\"Average dice pair value: {average:.2f}\")\n",
    "    \n",
    "    #playAgainInput used to prompt the user if they would like to play again and convert the inputted answer into a lowercase letter\n",
    "    playAgainInput = input(\"Try again [Y/N]? \").lower()\n",
    "    #if statement used to exit the program if 'y' is not entered\n",
    "    if playAgainInput != 'y':\n",
    "        break"
   ]
  }
 ],
 "metadata": {
  "kernelspec": {
   "display_name": "Python 3 (ipykernel)",
   "language": "python",
   "name": "python3"
  },
  "language_info": {
   "codemirror_mode": {
    "name": "ipython",
    "version": 3
   },
   "file_extension": ".py",
   "mimetype": "text/x-python",
   "name": "python",
   "nbconvert_exporter": "python",
   "pygments_lexer": "ipython3",
   "version": "3.11.4"
  }
 },
 "nbformat": 4,
 "nbformat_minor": 5
}
