{
 "cells": [
  {
   "cell_type": "markdown",
   "id": "546b8c09",
   "metadata": {},
   "source": [
    "# Lab 6\n",
    "\n",
    "## Nikhil Arora\n",
    "\n",
    "## 220874947"
   ]
  },
  {
   "cell_type": "markdown",
   "id": "ee7e2d02",
   "metadata": {},
   "source": [
    "## Question 1"
   ]
  },
  {
   "cell_type": "code",
   "execution_count": 25,
   "id": "119da26e",
   "metadata": {},
   "outputs": [
    {
     "name": "stdout",
     "output_type": "stream",
     "text": [
      "Input list size: 1\n",
      "Input max int: 2\n",
      "Generated list\n",
      "[0]\n",
      "Average value = 0.0000\n"
     ]
    }
   ],
   "source": [
    "import random\n",
    "\n",
    "# function used to generate a random list of integers with a specified size range and contains two parameters being the size of the list and maximum integer value\n",
    "def generateRandomList(size, maxInt):\n",
    "    return [random.randint(0, maxInt) for _ in range(size)]\n",
    "\n",
    "# function used to compute the average value of all the elements in the list after taking in a list of integers as the parameter\n",
    "def computeAverage(lst):\n",
    "    return sum(lst) / len(lst)\n",
    "\n",
    "# asks the user to input an integer that represents the size of the list\n",
    "size = int(input(\"Input list size: \"))\n",
    "\n",
    "# while loop used to prompt the user to continuously input a size for the list if the size inputted is less than 1\n",
    "while size < 1:\n",
    "    size = int(input(\"Input list size: \"))\n",
    "    \n",
    "# asks the user to input the max integer size allowed in the list\n",
    "maxInt = int(input(\"Input max int: \"))\n",
    "\n",
    "# generates the random list using the function created above\n",
    "randomList = generateRandomList(size, maxInt)\n",
    "\n",
    "# computes the average of the list using the function above\n",
    "averageValue = computeAverage(randomList)\n",
    "\n",
    "#prints required information\n",
    "print(\"Generated list\")\n",
    "print(randomList)\n",
    "\n",
    "print(f\"Average value = {averageValue:.4f}\")"
   ]
  },
  {
   "cell_type": "markdown",
   "id": "97bcdcd5",
   "metadata": {},
   "source": [
    "## Question 2"
   ]
  },
  {
   "cell_type": "code",
   "execution_count": 10,
   "id": "203189cf",
   "metadata": {},
   "outputs": [
    {
     "name": "stdout",
     "output_type": "stream",
     "text": [
      "Enter phone number as XXX-XXX-XXXX\n",
      "Type here: 905-421-8824\n",
      "['9', '0', '5', '-', '4', '2', '1', '-', '8', '8', '2', '4']\n",
      "['nine', 'zero', 'five', 'dash', 'four', 'two', 'one', 'dash', 'eight', 'eight', 'two', 'four']\n",
      "nine->zero->five->dash->four->two->one->dash->eight->eight->two->four\n"
     ]
    }
   ],
   "source": [
    "# function used to take a string as an input in the correct format \n",
    "def stringToCharLst(inputString):\n",
    "    return list(inputString)\n",
    "\n",
    "# function used to convert characters entered in the string into words and return a list of words\n",
    "def charsToWord(charList):\n",
    "    charToWord = {'0': 'zero', '1': 'one', '2': 'two', '3': 'three', '4': 'four', '5': 'five', '6': 'six', '7': 'seven', '8': 'eight', '9': 'nine', '-': 'dash'}\n",
    "    return [charToWord[char] for char in charList]\n",
    "\n",
    "# asks the user to input a phone number in the required format\n",
    "phoneNumber = input(\"Enter phone number as XXX-XXX-XXXX\\nType here: \")\n",
    "\n",
    "# converts the string into a list using the function above\n",
    "charList = stringToCharLst(phoneNumber)\n",
    "\n",
    "# converts the list of characters into words using the function above\n",
    "wordList = charsToWord(charList)\n",
    "\n",
    "# prints out the required information in the correct format\n",
    "print(charList)\n",
    "print(wordList)\n",
    "joinedWords = '->'.join(wordList)\n",
    "print(joinedWords)\n"
   ]
  },
  {
   "cell_type": "markdown",
   "id": "2866e732",
   "metadata": {},
   "source": [
    "## Question 3"
   ]
  },
  {
   "cell_type": "code",
   "execution_count": 15,
   "id": "2d2c2364",
   "metadata": {},
   "outputs": [
    {
     "name": "stdout",
     "output_type": "stream",
     "text": [
      "Input message: Send help, my EECS1015 code is not working.\n",
      "Encode (E) or Decode (D)? E\n",
      "Encoded message:\n",
      "GB[2_*B0%3_@6_BBCGH;H4_CL2B_\"G_[LK_^L(1\"[=/\n",
      "Encode/decode again [Y/N]y\n",
      "Input message: GB[2_*B0%3_@6_BBCGH;H4_CL2B_\"G_[LK_^L(1\"[=/\n",
      "Encode (E) or Decode (D)? d\n",
      "Decoded message:\n",
      "SEND HELP, MY EECS1015 CODE IS NOT WORKING.\n",
      "Encode/decode again [Y/N]y\n",
      "Input message: Password123.\n",
      "Encode (E) or Decode (D)? E\n",
      "Encoded message:\n",
      "%$GG^L(2HAJ/\n",
      "Encode/decode again [Y/N]N\n"
     ]
    }
   ],
   "source": [
    "# function used to encode the message inputted accordingly\n",
    "def encodeMessage(message, encoder):\n",
    "    encodedMessage = \"\"\n",
    "    for char in message:\n",
    "        # checks if the character is in the encoder dictionary defined below\n",
    "        if char in encoder:\n",
    "            # appends the encoded character to the result if it is\n",
    "            encodedMessage += encoder[char]\n",
    "        else:\n",
    "            # if the character is not in the dictionary, it is left unchanged\n",
    "            encodedMessage += char\n",
    "    return encodedMessage\n",
    "\n",
    "# function used to decode the message inputted accordingly\n",
    "def decodeMessage(message, decoder):\n",
    "    decodedMessage = \"\"\n",
    "    for char in message:\n",
    "        \n",
    "        # checks if the character is in the decoder dictionary defined below\n",
    "        if char in decoder:\n",
    "            # appends the decoded character to the result if it is\n",
    "            decodedMessage += decoder[char]\n",
    "        else:\n",
    "            # if the character is not in the dictionary, it is left unchanged\n",
    "            decodedMessage += char\n",
    "    return decodedMessage\n",
    "\n",
    "#defined values for encoder \n",
    "encoder = {'A': '$', 'B': 'F', 'C': 'C', 'D': '2', 'E': 'B', 'F': 'I', 'G': '=', 'H': '*', 'I': '\"', 'J': ']', 'K': '1',\n",
    "     'L': '0', 'M': '@', 'N': '[', 'O': 'L', 'P': '%', 'Q': '&', 'R': '(', 'S': 'G', 'T': 'K', 'U': '5', 'V': '!',\n",
    "     'W': '^', 'X': '+', 'Y': '6', 'Z': '-', '1': 'H', '2': 'A', '3': 'J', '4': '7', '5': '4', '6': 'D', '7': 'E',\n",
    "     '8': '9', '9': ')', '0': ';', ',': '3', '.': '/', ' ':'_'}\n",
    "\n",
    "#defined values for decoder \n",
    "decoder = {'$': 'A', 'F': 'B', 'C': 'C', '2': 'D', 'B': 'E', 'I': 'F', '=': 'G', '*': 'H', '\"': 'I', ']': 'J', '1': 'K',\n",
    "     '0': 'L', '@': 'M', '[': 'N', 'L': 'O', '%': 'P', '&': 'Q', '(': 'R', 'G': 'S', 'K': 'T', '5': 'U', '!': 'V',\n",
    "     '^': 'W', '+': 'X', '6': 'Y', '-': 'Z', 'H': '1', 'A': '2', 'J': '3', '7': '4', '4': '5', 'D': '6', 'E': '7',\n",
    "     '9': '8', ')': '9', ';': '0', '3': ',', '/': '.', '_': ' '}\n",
    "\n",
    "#while loop used to continue repeating through the program\n",
    "while True:\n",
    "    # asks the user to input a message to either encode or decode and changes all the characters to uppercase to be recognized\n",
    "    message = input(\"Input message: \").upper()\n",
    "    \n",
    "    # asks the user to choose between encoding or decoding the message\n",
    "    choice = input(\"Encode (E) or Decode (D)? \").upper()\n",
    "    \n",
    "    # if E is chosen, the message is encoded using the function above and printed out accordingly\n",
    "    if choice == 'E':\n",
    "        encodedMessage = encodeMessage(message, encoder)\n",
    "        print(\"Encoded message:\")\n",
    "        print(encodedMessage)\n",
    "        \n",
    "    # if D is chosen, the message is decoded using the function above and printed out accordingly\n",
    "    elif choice == 'D':\n",
    "        decodedMessage = decodeMessage(message, decoder)\n",
    "        print(\"Decoded message:\")\n",
    "        print(decodedMessage)\n",
    "    # if neither are chosen an error message is printed out\n",
    "    else:\n",
    "        print(\"Invalid input. Please enter 'E' for encoding or 'D' for decoding\")\n",
    "        continue\n",
    "        \n",
    "    # asks the user if they would like to repeat the process again\n",
    "    repeat = input(\"Encode/decode again [Y/N]? \").upper()\n",
    "    if repeat != 'Y':\n",
    "        break\n",
    "\n",
    "        \n",
    "        \n"
   ]
  },
  {
   "cell_type": "markdown",
   "id": "4d8e4430",
   "metadata": {},
   "source": [
    "## Question 4"
   ]
  },
  {
   "cell_type": "code",
   "execution_count": 22,
   "id": "cdf0a9b4",
   "metadata": {},
   "outputs": [
    {
     "name": "stdout",
     "output_type": "stream",
     "text": [
      "Enter 5 numbers between 1-20: 2 5 9 11 13\n",
      "Computer's numbers: 2 13 17 18 19 \n",
      "2 matches found: 2 13 \n",
      "Try again [Y/N]? y\n",
      "Enter 5 numbers between 1-20: 2 4 6 8 20\n",
      "Computer's numbers: 4 6 8 12 16 \n",
      "3 matches found: 8 4 6 \n",
      "Try again [Y/N]? y\n",
      "Enter 5 numbers between 1-20: 4 7 9 11 13\n",
      "Computer's numbers: 1 4 12 14 19 \n",
      "1 matches found: 4 \n",
      "Try again [Y/N]? n\n"
     ]
    }
   ],
   "source": [
    "import random\n",
    "\n",
    "# function used to return a set of 5 random numbers where each number is in between 1-20\n",
    "def random_set():\n",
    "    # number set is defined\n",
    "    numberSet = set()\n",
    "    # while loop used to add random numbers to add 5 numbers to the set\n",
    "    while len(numberSet) < 5:\n",
    "        randomNumber = random.randint(1,20)\n",
    "        numberSet.add(randomNumber)\n",
    "    return numberSet\n",
    "\n",
    "# function used to print out the set with an optional prompt option before the set\n",
    "def print_set(aSet, prompt=\"\"):\n",
    "    print(prompt, end=\"\")\n",
    "    for num in aSet:\n",
    "        print(num, end=\" \")\n",
    "    print()\n",
    "    \n",
    "# main function\n",
    "def main():\n",
    "    \n",
    "    #while loop used to continue repeating through the program\n",
    "    while True:\n",
    "        # asks the user to input 5 numbers in the alloted range and adds them to the set\n",
    "        userInput = input(\"Enter 5 numbers between 1-20: \")\n",
    "        userNumbers = set(map(int, userInput.split()))\n",
    "        \n",
    "        #if the user does not enter 5 numbers or a number is outside of the 1-20 range the prompt is repeated\n",
    "        if len(userNumbers) != 5 or any(num < 1 or num > 20 for num in userNumbers):\n",
    "            continue\n",
    "            \n",
    "        # calls the function above to print out the computer's 5 randomized numbers\n",
    "        computerNumbers = random_set()\n",
    "        print_set(computerNumbers, \"Computer's numbers: \")\n",
    "        \n",
    "        # compares the computer numbers and user numbers to find any matches\n",
    "        commonNumbers = userNumbers.intersection(computerNumbers)\n",
    "        \n",
    "        # if no matches are found, the statement is printed out\n",
    "        if not commonNumbers:\n",
    "            print(\"NO MATCHES!!\")\n",
    "        \n",
    "        # if a match is found, the amount of matches is printed out along with the common numbers\n",
    "        else:\n",
    "            print(f\"{len(commonNumbers)} matches found: \", end=\"\")\n",
    "            print_set(commonNumbers)\n",
    "            \n",
    "            # if all 5 numbers match, then a winning statement is printed out\n",
    "            if len(commonNumbers) == 5:\n",
    "                print(\"YOU WIN!\")\n",
    "                \n",
    "            # asks the user if they would like to repeat the process again\n",
    "            repeat = input(\"Try again [Y/N]? \").upper()\n",
    "            if repeat != 'Y':\n",
    "                break\n",
    "main()"
   ]
  }
 ],
 "metadata": {
  "kernelspec": {
   "display_name": "Python 3 (ipykernel)",
   "language": "python",
   "name": "python3"
  },
  "language_info": {
   "codemirror_mode": {
    "name": "ipython",
    "version": 3
   },
   "file_extension": ".py",
   "mimetype": "text/x-python",
   "name": "python",
   "nbconvert_exporter": "python",
   "pygments_lexer": "ipython3",
   "version": "3.11.4"
  }
 },
 "nbformat": 4,
 "nbformat_minor": 5
}
