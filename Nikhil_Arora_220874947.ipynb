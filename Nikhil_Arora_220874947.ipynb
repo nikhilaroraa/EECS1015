{
 "cells": [
  {
   "cell_type": "markdown",
   "id": "f4bcadbe",
   "metadata": {},
   "source": [
    "# Lab 1\n",
    "\n",
    "## Nikhil Arora\n",
    "## 220874947"
   ]
  },
  {
   "cell_type": "markdown",
   "id": "d3f99c3d",
   "metadata": {},
   "source": [
    "# Question 1"
   ]
  },
  {
   "cell_type": "code",
   "execution_count": 1,
   "id": "018d8837",
   "metadata": {},
   "outputs": [
    {
     "name": "stdout",
     "output_type": "stream",
     "text": [
      "Amount in Canadian dollars: 10\n",
      "Amount in other currencies:\n",
      "USD: 7.4\n",
      "RUB: 592.6\n",
      "SGD: 9.9\n",
      "EUR: 6.8\n",
      "CNY: 51.9\n"
     ]
    }
   ],
   "source": [
    "import math\n",
    "\n",
    "usdRate = 0.74\n",
    "rubRate = 59.26\n",
    "sgdRate = 0.99\n",
    "eurRate = 0.68\n",
    "cnyRate = 5.19\n",
    "\n",
    "canadianAmount = float(input(\"Amount in Canadian dollars: \"))\n",
    "usdExchange = \"{:.1f}\".format(canadianAmount * usdRate)\n",
    "rubExchange = \"{:.1f}\".format(canadianAmount * rubRate)\n",
    "sgdExchange = \"{:.1f}\".format(canadianAmount * sgdRate)\n",
    "eurExchange = \"{:.1f}\".format(canadianAmount * eurRate)\n",
    "cnyExchange = \"{:.1f}\".format(canadianAmount * cnyRate)\n",
    "\n",
    "print(\"Amount in other currencies:\")\n",
    "print(\"USD: \", end=\"\")\n",
    "print(usdExchange)\n",
    "print(\"RUB: \", end=\"\")\n",
    "print(rubExchange)\n",
    "print(\"SGD: \", end=\"\")\n",
    "print(sgdExchange)\n",
    "print(\"EUR: \", end=\"\")\n",
    "print(eurExchange)\n",
    "print(\"CNY: \", end=\"\")\n",
    "print(cnyExchange)"
   ]
  },
  {
   "cell_type": "markdown",
   "id": "6cb53697",
   "metadata": {},
   "source": [
    "# Question 2"
   ]
  },
  {
   "cell_type": "code",
   "execution_count": 2,
   "id": "5e89118b",
   "metadata": {},
   "outputs": [
    {
     "name": "stdout",
     "output_type": "stream",
     "text": [
      "Input integer x: 10\n",
      "Input integer y: 2\n",
      "Integer math:\n",
      "x/y = 5.0\n",
      "x// y = 5\n",
      "x%y = 0\n",
      "x**y = 100\n",
      "Input float x: 2.5\n",
      "Input float y: 1\n",
      "Float math:\n",
      "x/y = 2.5\n",
      "x// y = 2.0\n",
      "x%y = 0.5\n",
      "x**y = 2.5\n"
     ]
    }
   ],
   "source": [
    "import math\n",
    "\n",
    "x = int(input(\"Input integer x: \"))\n",
    "y = int(input(\"Input integer y: \"))\n",
    "\n",
    "print(\"Integer math:\")\n",
    "print(\"x/y =\", x/y)\n",
    "print(\"x// y =\", x//y)\n",
    "print(\"x%y =\", x%y)\n",
    "print(\"x**y =\", x**y)\n",
    "\n",
    "x = float(input(\"Input float x: \"))\n",
    "y = float(input(\"Input float y: \"))\n",
    "\n",
    "print(\"Float math:\")\n",
    "print(\"x/y =\", x/y)\n",
    "print(\"x// y =\", x//y)\n",
    "print(\"x%y =\", x%y)\n",
    "print(\"x**y =\", x**y)\n"
   ]
  },
  {
   "cell_type": "markdown",
   "id": "00cedcda",
   "metadata": {},
   "source": [
    "# Question 3"
   ]
  },
  {
   "cell_type": "code",
   "execution_count": 3,
   "id": "3497ee3d",
   "metadata": {},
   "outputs": [
    {
     "name": "stdout",
     "output_type": "stream",
     "text": [
      "Radius: 2.5\n",
      "Height: 8\n",
      "Cylinder surface area: 164.93362831858408\n",
      "Cylinder volume: 157.07964601769913\n"
     ]
    }
   ],
   "source": [
    "import math\n",
    "\n",
    "radius = float(input(\"Radius: \"))\n",
    "height = float(input(\"Height: \"))\n",
    "\n",
    "surfaceAreaFormula = ((2* (355/113)* radius* height) + (2* (355/113)* (radius* radius)))\n",
    "volumeFormula = ((355/113)* (radius* radius)* height)\n",
    "\n",
    "print(\"Cylinder surface area: \", end=\"\")\n",
    "print(surfaceAreaFormula)\n",
    "print(\"Cylinder volume: \", end=\"\")\n",
    "print(volumeFormula)"
   ]
  },
  {
   "cell_type": "markdown",
   "id": "ee1c1b52",
   "metadata": {},
   "source": [
    "# Question 4"
   ]
  },
  {
   "cell_type": "code",
   "execution_count": 4,
   "id": "55b36f97",
   "metadata": {},
   "outputs": [
    {
     "name": "stdout",
     "output_type": "stream",
     "text": [
      "Therefore the period in hours would be 23.915020631121802\n"
     ]
    }
   ],
   "source": [
    "import math\n",
    "\n",
    "radiusOfEarth = 6371*1000\n",
    "heightOfSatellite = 35786*1000\n",
    "g = (6.673*(10**(-11)))\n",
    "massOfEarth = (5.98*(10**24))\n",
    "\n",
    "totalRadius = radiusOfEarth + heightOfSatellite\n",
    "\n",
    "periodInSeconds = ((2*math.pi*(totalRadius**1.5)) / (math.sqrt(g*massOfEarth)))\n",
    "\n",
    "periodInHours = periodInSeconds/3600\n",
    "\n",
    "print(\"Therefore the period in hours would be \", end=\"\")\n",
    "print(periodInHours)"
   ]
  },
  {
   "cell_type": "markdown",
   "id": "9565fbba",
   "metadata": {},
   "source": [
    "# Question 5"
   ]
  },
  {
   "cell_type": "code",
   "execution_count": 5,
   "id": "24651758",
   "metadata": {},
   "outputs": [
    {
     "name": "stdout",
     "output_type": "stream",
     "text": [
      "Therefore the position in meters of the ball 2 seconds after leaving your hand would be 10.379999999999999\n",
      "Therefore the velocity in meters per second of the ball 2 seconds after leaving your hand would be -4.620000000000001\n"
     ]
    }
   ],
   "source": [
    "import math\n",
    "\n",
    "initialVelocity = 15\n",
    "acceleration = -9.81\n",
    "time = 2\n",
    "initialPosition = 0\n",
    "\n",
    "finalPositionCalculation = initialPosition + (initialVelocity*time + (0.5*acceleration*(time**2)))\n",
    "finalVelocityCalculation = initialVelocity + (acceleration*time)\n",
    "\n",
    "print(\"Therefore the position in meters of the ball 2 seconds after leaving your hand would be \", end=\"\")\n",
    "print(finalPositionCalculation)\n",
    "print(\"Therefore the velocity in meters per second of the ball 2 seconds after leaving your hand would be \", end=\"\")\n",
    "print(finalVelocityCalculation)"
   ]
  },
  {
   "cell_type": "code",
   "execution_count": null,
   "id": "6f14bf10",
   "metadata": {},
   "outputs": [],
   "source": []
  }
 ],
 "metadata": {
  "kernelspec": {
   "display_name": "Python 3 (ipykernel)",
   "language": "python",
   "name": "python3"
  },
  "language_info": {
   "codemirror_mode": {
    "name": "ipython",
    "version": 3
   },
   "file_extension": ".py",
   "mimetype": "text/x-python",
   "name": "python",
   "nbconvert_exporter": "python",
   "pygments_lexer": "ipython3",
   "version": "3.11.4"
  }
 },
 "nbformat": 4,
 "nbformat_minor": 5
}
