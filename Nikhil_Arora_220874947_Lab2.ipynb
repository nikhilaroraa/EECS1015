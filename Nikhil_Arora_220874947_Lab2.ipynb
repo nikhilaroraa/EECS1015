{
 "cells": [
  {
   "cell_type": "markdown",
   "id": "4cdf0ec4",
   "metadata": {},
   "source": [
    "# Lab 2\n",
    "\n",
    "## Nikhil Arora\n",
    "## 220874947"
   ]
  },
  {
   "cell_type": "markdown",
   "id": "65a10cf0",
   "metadata": {},
   "source": [
    "# Question 1"
   ]
  },
  {
   "cell_type": "code",
   "execution_count": 22,
   "id": "8bdeb9d2",
   "metadata": {},
   "outputs": [
    {
     "ename": "KeyboardInterrupt",
     "evalue": "Interrupted by user",
     "output_type": "error",
     "traceback": [
      "\u001b[1;31m---------------------------------------------------------------------------\u001b[0m",
      "\u001b[1;31mKeyboardInterrupt\u001b[0m                         Traceback (most recent call last)",
      "Cell \u001b[1;32mIn[22], line 3\u001b[0m\n\u001b[0;32m      1\u001b[0m \u001b[38;5;28;01mimport\u001b[39;00m \u001b[38;5;21;01mmath\u001b[39;00m\n\u001b[1;32m----> 3\u001b[0m name \u001b[38;5;241m=\u001b[39m \u001b[38;5;28minput\u001b[39m(\u001b[38;5;124m\"\u001b[39m\u001b[38;5;124mName: \u001b[39m\u001b[38;5;124m\"\u001b[39m)\u001b[38;5;241m.\u001b[39mstrip()\n\u001b[0;32m      4\u001b[0m formattedName \u001b[38;5;241m=\u001b[39m \u001b[38;5;124m'\u001b[39m\u001b[38;5;124m \u001b[39m\u001b[38;5;124m'\u001b[39m\u001b[38;5;241m.\u001b[39mjoin(word\u001b[38;5;241m.\u001b[39mcapitalize() \u001b[38;5;28;01mfor\u001b[39;00m word \u001b[38;5;129;01min\u001b[39;00m name\u001b[38;5;241m.\u001b[39msplit())\n\u001b[0;32m      6\u001b[0m initialAmount \u001b[38;5;241m=\u001b[39m \u001b[38;5;28mfloat\u001b[39m(\u001b[38;5;28minput\u001b[39m(\u001b[38;5;124m\"\u001b[39m\u001b[38;5;124mInitial amount: $ \u001b[39m\u001b[38;5;124m\"\u001b[39m))\n",
      "File \u001b[1;32m~\\anaconda3\\Lib\\site-packages\\ipykernel\\kernelbase.py:1175\u001b[0m, in \u001b[0;36mKernel.raw_input\u001b[1;34m(self, prompt)\u001b[0m\n\u001b[0;32m   1171\u001b[0m \u001b[38;5;28;01mif\u001b[39;00m \u001b[38;5;129;01mnot\u001b[39;00m \u001b[38;5;28mself\u001b[39m\u001b[38;5;241m.\u001b[39m_allow_stdin:\n\u001b[0;32m   1172\u001b[0m     \u001b[38;5;28;01mraise\u001b[39;00m StdinNotImplementedError(\n\u001b[0;32m   1173\u001b[0m         \u001b[38;5;124m\"\u001b[39m\u001b[38;5;124mraw_input was called, but this frontend does not support input requests.\u001b[39m\u001b[38;5;124m\"\u001b[39m\n\u001b[0;32m   1174\u001b[0m     )\n\u001b[1;32m-> 1175\u001b[0m \u001b[38;5;28;01mreturn\u001b[39;00m \u001b[38;5;28mself\u001b[39m\u001b[38;5;241m.\u001b[39m_input_request(\n\u001b[0;32m   1176\u001b[0m     \u001b[38;5;28mstr\u001b[39m(prompt),\n\u001b[0;32m   1177\u001b[0m     \u001b[38;5;28mself\u001b[39m\u001b[38;5;241m.\u001b[39m_parent_ident[\u001b[38;5;124m\"\u001b[39m\u001b[38;5;124mshell\u001b[39m\u001b[38;5;124m\"\u001b[39m],\n\u001b[0;32m   1178\u001b[0m     \u001b[38;5;28mself\u001b[39m\u001b[38;5;241m.\u001b[39mget_parent(\u001b[38;5;124m\"\u001b[39m\u001b[38;5;124mshell\u001b[39m\u001b[38;5;124m\"\u001b[39m),\n\u001b[0;32m   1179\u001b[0m     password\u001b[38;5;241m=\u001b[39m\u001b[38;5;28;01mFalse\u001b[39;00m,\n\u001b[0;32m   1180\u001b[0m )\n",
      "File \u001b[1;32m~\\anaconda3\\Lib\\site-packages\\ipykernel\\kernelbase.py:1217\u001b[0m, in \u001b[0;36mKernel._input_request\u001b[1;34m(self, prompt, ident, parent, password)\u001b[0m\n\u001b[0;32m   1214\u001b[0m             \u001b[38;5;28;01mbreak\u001b[39;00m\n\u001b[0;32m   1215\u001b[0m \u001b[38;5;28;01mexcept\u001b[39;00m \u001b[38;5;167;01mKeyboardInterrupt\u001b[39;00m:\n\u001b[0;32m   1216\u001b[0m     \u001b[38;5;66;03m# re-raise KeyboardInterrupt, to truncate traceback\u001b[39;00m\n\u001b[1;32m-> 1217\u001b[0m     \u001b[38;5;28;01mraise\u001b[39;00m \u001b[38;5;167;01mKeyboardInterrupt\u001b[39;00m(\u001b[38;5;124m\"\u001b[39m\u001b[38;5;124mInterrupted by user\u001b[39m\u001b[38;5;124m\"\u001b[39m) \u001b[38;5;28;01mfrom\u001b[39;00m \u001b[38;5;28;01mNone\u001b[39;00m\n\u001b[0;32m   1218\u001b[0m \u001b[38;5;28;01mexcept\u001b[39;00m \u001b[38;5;167;01mException\u001b[39;00m:\n\u001b[0;32m   1219\u001b[0m     \u001b[38;5;28mself\u001b[39m\u001b[38;5;241m.\u001b[39mlog\u001b[38;5;241m.\u001b[39mwarning(\u001b[38;5;124m\"\u001b[39m\u001b[38;5;124mInvalid Message:\u001b[39m\u001b[38;5;124m\"\u001b[39m, exc_info\u001b[38;5;241m=\u001b[39m\u001b[38;5;28;01mTrue\u001b[39;00m)\n",
      "\u001b[1;31mKeyboardInterrupt\u001b[0m: Interrupted by user"
     ]
    }
   ],
   "source": [
    "import math\n",
    "\n",
    "name = input(\"Name: \").strip()\n",
    "formattedName = ' '.join(word.capitalize() for word in name.split())\n",
    "\n",
    "initialAmount = float(input(\"Initial amount: $ \"))\n",
    "\n",
    "rateOfReturn = float(input(\"Rate of return: % \"))\n",
    "rateOfReturnMultiplier = rateOfReturn/100\n",
    "\n",
    "print(f\"Client: {formattedName}, yearly rate of return multiplier: {rateOfReturnMultiplier:.2f}\")\n",
    "\n",
    "for year in range(1, 4):\n",
    "    endingAmount = initialAmount*(1 + rateOfReturnMultiplier)\n",
    "    print(f\"Year {year}\\t Starting Amount: $ {initialAmount:8.2f}\\t\\t Ending Amount: $ {endingAmount:8.2f}\")\n",
    "    initialAmount = endingAmount\n",
    "\n"
   ]
  },
  {
   "cell_type": "markdown",
   "id": "0fa06bc1",
   "metadata": {},
   "source": [
    "# Question 2"
   ]
  },
  {
   "cell_type": "code",
   "execution_count": null,
   "id": "b0006416",
   "metadata": {},
   "outputs": [],
   "source": [
    "import math\n",
    "\n",
    "longString = input(\"Type a long string: \")\n",
    "capitalizeString = str.upper(longString)\n",
    "leetSpeakString = capitalizeString.replace(\"T\", \"7\").replace(\"A\", \"^\").replace(\"E\", \"3\").replace(\"I\", \"!\").replace(\"B\", \"8\").replace(\"O\", \".\").replace(\"C\", \"<\").replace(\"S\", \"$\")\n",
    "print(leetSpeakString)\n"
   ]
  },
  {
   "cell_type": "markdown",
   "id": "ec70a04c",
   "metadata": {},
   "source": [
    "# Question 3"
   ]
  },
  {
   "cell_type": "code",
   "execution_count": 32,
   "id": "6fd05410",
   "metadata": {},
   "outputs": [
    {
     "name": "stdout",
     "output_type": "stream",
     "text": [
      "Type a sentence at the prompt below:\n",
      "> This is a long string\n",
      "Enter substring below to highlight:\n",
      "> long\n",
      "Sentence has 21 characters, substring has 4 characters\n",
      "Substring highlighted:\n",
      "> This is a *LONG* string\n"
     ]
    }
   ],
   "source": [
    "import math\n",
    "\n",
    "print(\"Type a sentence at the prompt below:\")\n",
    "stringInput = input(\"> \")\n",
    "\n",
    "print(\"Enter substring below to highlight:\")\n",
    "substringInput = input(\"> \")\n",
    "\n",
    "index = stringInput.find(substringInput)\n",
    "\n",
    "stringLength = len(stringInput)\n",
    "substringLength = len(substringInput)\n",
    "\n",
    "if index != -1:\n",
    "    highlightedSentence = stringInput[:index] + '*' + substringInput.upper() + '*' + stringInput[index + substringLength:]\n",
    "    \n",
    "else:\n",
    "    highlightedSentence = \"Substring not found in the sentence.\"\n",
    "    \n",
    "print(f\"Sentence has {stringLength} characters, substring has {substringLength} characters\")\n",
    "\n",
    "print(\"Substring highlighted:\")\n",
    "print(f\"> {highlightedSentence}\")\n",
    "\n"
   ]
  },
  {
   "cell_type": "markdown",
   "id": "a0b8a149",
   "metadata": {},
   "source": [
    "# Question 4"
   ]
  },
  {
   "cell_type": "code",
   "execution_count": null,
   "id": "1b0a213c",
   "metadata": {},
   "outputs": [],
   "source": [
    "import math\n",
    "\n",
    "exponentInput = input(\"Input exponent in the form x^y: \")\n",
    "\n",
    "base, exponent = exponentInput.split('^')\n",
    "\n",
    "x = int(base)\n",
    "y = int(exponent)\n",
    "\n",
    "result = x**y\n",
    "\n",
    "print(f\"Extracted numbers {x} {y}\")\n",
    "print(f\"{x}^{y} = {result}\")\n",
    "      "
   ]
  }
 ],
 "metadata": {
  "kernelspec": {
   "display_name": "Python 3 (ipykernel)",
   "language": "python",
   "name": "python3"
  },
  "language_info": {
   "codemirror_mode": {
    "name": "ipython",
    "version": 3
   },
   "file_extension": ".py",
   "mimetype": "text/x-python",
   "name": "python",
   "nbconvert_exporter": "python",
   "pygments_lexer": "ipython3",
   "version": "3.11.4"
  }
 },
 "nbformat": 4,
 "nbformat_minor": 5
}
