{
 "cells": [
  {
   "cell_type": "markdown",
   "id": "d5ec9c42",
   "metadata": {},
   "source": [
    "# Lab 4\n",
    "\n",
    "## Nikhil Arora\n",
    "\n",
    "## 220874947"
   ]
  },
  {
   "cell_type": "markdown",
   "id": "bd60a127",
   "metadata": {},
   "source": [
    "# Question 1"
   ]
  },
  {
   "cell_type": "code",
   "execution_count": 27,
   "id": "45a420b4",
   "metadata": {},
   "outputs": [
    {
     "name": "stdout",
     "output_type": "stream",
     "text": [
      "**Select menu item**\n",
      "(1) Coke [$1.00]\n",
      "(2) Dosa [$2.50]\n",
      "(3) Pizza [$2.25]\n",
      "(4) Taco [$1.50]\n",
      "(5) Tea [$1.00]\n",
      "Selection: 6\n",
      "Invalid selection - setting amount to $0\n",
      "**Discount**\n",
      "(C) Child [under 18] (50% discount)\n",
      "(A) Adult [18-64]\n",
      "(S) Senior [65+] (25% discount)\n",
      "Selection age: a\n",
      "Amount $ 0.00\n",
      "Discount $ 0.00\n",
      "------------------\n",
      "Total $ 0.00\n"
     ]
    }
   ],
   "source": [
    "# Item menu printout listing all the different options\n",
    "menuItems = {1: (\"Coke\", 1.00), 2: (\"Dosa\", 2.50), 3:(\"Pizza\", 2.25), 4: (\"Taco\", 1.50), 5: (\"Tea\", 1.00)}\n",
    "\n",
    "# for loop used to iterate through the options for the user to select from\n",
    "print(\"**Select menu item**\")\n",
    "for itemNumber, (itemName, itemPrice) in menuItems.items():\n",
    "    print(f\"({itemNumber}) {itemName} [${itemPrice:.2f}]\")\n",
    "    \n",
    "# Input for user to enter selection of choice between 1-5 \n",
    "selection = int(input(\"Selection: \"))\n",
    "\n",
    "# if statement used to check if the selection inputted is in the menuItems dictionary\n",
    "if selection in menuItems:\n",
    "    itemName, itemPrice = menuItems[selection]\n",
    "\n",
    "# if the selection inputted is not in the menu, all the information is set to default values \n",
    "else:\n",
    "    print(\"Invalid selection - setting amount to $0\")\n",
    "    itemName = \"Invalid Selection\"\n",
    "    itemPrice = 0.00\n",
    "    print(f\"**Discount**\")\n",
    "    print(\"(C) Child [under 18] (50% discount)\")\n",
    "    print(\"(A) Adult [18-64]\")\n",
    "    print(\"(S) Senior [65+] (25% discount)\")\n",
    "\n",
    "    # input for user to enter the age for possible discount options with the character being lowered to be accepted properly\n",
    "    ageGroup = input(\"Selection age: \").lower()\n",
    "    \n",
    "    discountPercentage = 0.00\n",
    "    \n",
    "    #if statements used to set discount percentage based on age group selection\n",
    "    if ageGroup == 'c':\n",
    "        discountPercentage = 0.5\n",
    "    elif ageGroup == 's':\n",
    "        discountPercentage = 0.25\n",
    "    elif ageGroup == 'a':\n",
    "        discountPercentage = 0.00\n",
    "    else:\n",
    "        # if the age group selected is invalid an extra charge is applied \n",
    "        print(f\" '{ageGroup}' is an invalid selection! Extra charge for you!\")\n",
    "        discountPercentage = -0.25\n",
    "        \n",
    "    discountAmount = itemPrice * discountPercentage\n",
    "    finalAmount = itemPrice - discountAmount\n",
    "    \n",
    "    #Print statements used to print out the information gathered in the required format\n",
    "    print(f\"Amount $ {itemPrice:.2f}\")\n",
    "    print(f\"Discount $ {discountAmount:.2f}\")\n",
    "    print(\"------------------\")\n",
    "    print(f\"Total $ {finalAmount:.2f}\")\n",
    "   "
   ]
  },
  {
   "cell_type": "markdown",
   "id": "bedb2f2b",
   "metadata": {},
   "source": [
    "# Question 2"
   ]
  },
  {
   "cell_type": "code",
   "execution_count": 41,
   "id": "e54e38a3",
   "metadata": {},
   "outputs": [
    {
     "name": "stdout",
     "output_type": "stream",
     "text": [
      "Input size between 1-10: 11\n",
      "Input size between 1-10: 9\n",
      ".....................\n",
      "..........*..........\n",
      "......*********......\n",
      ".....***********.....\n",
      "....*************....\n",
      "...***************...\n",
      "..*****************..\n",
      "..*****************..\n",
      "..*****************..\n",
      "..*****************..\n",
      ".*******************.\n",
      "..*****************..\n",
      "..*****************..\n",
      "..*****************..\n",
      "..*****************..\n",
      "...***************...\n",
      "....*************....\n",
      ".....***********.....\n",
      "......*********......\n",
      "..........*..........\n",
      ".....................\n"
     ]
    }
   ],
   "source": [
    "# while loop used to continously prompt the user to enter a valid radius to use to print out a circle\n",
    "while True:\n",
    "    radius = int(input(\"Input size between 1-10: \"))\n",
    "    if 1 <= radius <= 10:\n",
    "        break\n",
    "\n",
    "# for loop used to loop through the y coordinates from 10 to -10 in reverse order\n",
    "for y in range(10,-11, -1):\n",
    "    # nest for loop used to loop through the x coordinates from -10 to 10\n",
    "    for x in range (-10,11):\n",
    "        # if statement used to check if the point is within the circle defined by the user input\n",
    "        if x**2 + y**2 <= radius**2:\n",
    "            # if it is inside the circle, an asterisk is printed out\n",
    "            print(\"*\", end=\"\")\n",
    "        else:\n",
    "            # if it is outside the circle, an asterisk is printed out\n",
    "            print(\".\", end=\"\")\n",
    "    # moves to the next line after each row is printed out\n",
    "    print()"
   ]
  },
  {
   "cell_type": "markdown",
   "id": "873e900d",
   "metadata": {},
   "source": [
    "# Question 3"
   ]
  },
  {
   "cell_type": "code",
   "execution_count": 46,
   "id": "f2ef7884",
   "metadata": {},
   "outputs": [
    {
     "name": "stdout",
     "output_type": "stream",
     "text": [
      "Input number of terms, M: 10\n",
      "n=0 . . . adding fraction: 1/1\n",
      "our pi = 4.00000000000\n",
      "real pi = 3.14159265359\n",
      "n=1 . . . adding fraction: -1/3\n",
      "our pi = 2.66666666667\n",
      "real pi = 3.14159265359\n",
      "n=2 . . . adding fraction: 1/5\n",
      "our pi = 3.46666666667\n",
      "real pi = 3.14159265359\n",
      "n=3 . . . adding fraction: -1/7\n",
      "our pi = 2.89523809524\n",
      "real pi = 3.14159265359\n",
      "n=4 . . . adding fraction: 1/9\n",
      "our pi = 3.33968253968\n",
      "real pi = 3.14159265359\n",
      "n=5 . . . adding fraction: -1/11\n",
      "our pi = 2.97604617605\n",
      "real pi = 3.14159265359\n",
      "n=6 . . . adding fraction: 1/13\n",
      "our pi = 3.28373848374\n",
      "real pi = 3.14159265359\n",
      "n=7 . . . adding fraction: -1/15\n",
      "our pi = 3.01707181707\n",
      "real pi = 3.14159265359\n",
      "n=8 . . . adding fraction: 1/17\n",
      "our pi = 3.25236593472\n",
      "real pi = 3.14159265359\n",
      "n=9 . . . adding fraction: -1/19\n",
      "our pi = 3.04183961893\n",
      "real pi = 3.14159265359\n",
      "n=10 . . . adding fraction: 1/21\n",
      "our pi = 3.23231580941\n",
      "real pi = 3.14159265359\n",
      "Final approximation of pi: 3.23231580941\n"
     ]
    }
   ],
   "source": [
    "# int input used to get the number of terms for approximation from user\n",
    "M = int(input(\"Input number of terms, M: \"))\n",
    "\n",
    "# initializing the approximation of pi to 0\n",
    "approximationOfPi = 0.0\n",
    "\n",
    "# for loop used to iterate through 0 to M\n",
    "for n in range(M + 1):\n",
    "    # formula used to calculate the numerator and denominator for the nth term in the series\n",
    "    numerator = (-1)**n \n",
    "    denominator = (2*n + 1)\n",
    "    \n",
    "    # string created to represent the adding fraction\n",
    "    term = f\"{numerator}/{denominator}\"\n",
    "   \n",
    "    # current term is added to the approximation of pi\n",
    "    approximationOfPi += numerator / denominator\n",
    "    \n",
    "    # print statements used to print out the gathered information in the required format\n",
    "    print(f\"n={n} . . . adding fraction: {term}\")\n",
    "    print(f\"our pi = {4 * approximationOfPi:.11f}\")\n",
    "    print(\"real pi = 3.14159265359\")\n",
    "\n",
    "# print statement used to print the final approximation of pi\n",
    "finalPi = 4*approximationOfPi\n",
    "print(f\"Final approximation of pi: {finalPi:.11f}\")"
   ]
  }
 ],
 "metadata": {
  "kernelspec": {
   "display_name": "Python 3 (ipykernel)",
   "language": "python",
   "name": "python3"
  },
  "language_info": {
   "codemirror_mode": {
    "name": "ipython",
    "version": 3
   },
   "file_extension": ".py",
   "mimetype": "text/x-python",
   "name": "python",
   "nbconvert_exporter": "python",
   "pygments_lexer": "ipython3",
   "version": "3.11.4"
  }
 },
 "nbformat": 4,
 "nbformat_minor": 5
}
