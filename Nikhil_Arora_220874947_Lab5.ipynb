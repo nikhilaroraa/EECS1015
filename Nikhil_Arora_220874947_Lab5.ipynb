{
 "cells": [
  {
   "cell_type": "markdown",
   "id": "58549e1f",
   "metadata": {},
   "source": [
    "# Lab 5\n",
    "\n",
    "## Nikhil Arora\n",
    "\n",
    "## 220874947"
   ]
  },
  {
   "cell_type": "markdown",
   "id": "32788ef0",
   "metadata": {},
   "source": [
    "# Question 1"
   ]
  },
  {
   "cell_type": "code",
   "execution_count": 21,
   "id": "567f1381",
   "metadata": {},
   "outputs": [
    {
     "name": "stdout",
     "output_type": "stream",
     "text": [
      "How many times to move [2-20] 3\n",
      "How long to delay [1-1000ms]? 0\n",
      "How long to delay [1-1000ms]? 10\n",
      "Randomize [Y/N]? g\n",
      "Randomize [Y/N]? n\n",
      "{o,o}\n",
      "/)_) \n",
      " \" \" \n",
      " {o,o}\n",
      " /)_) \n",
      "  \" \" \n",
      "  {o,o}\n",
      "  /)_) \n",
      "   \" \" \n"
     ]
    }
   ],
   "source": [
    "import time\n",
    "import random\n",
    "\n",
    "# function used to get an integer input within a specific range by prompting the user to enter a value\n",
    "def get_int_input(prompt, min_value, max_value):\n",
    "    while True:\n",
    "        try:\n",
    "            value = int(input(prompt))\n",
    "            if min_value <= value <= max_value:\n",
    "                return value\n",
    "        except ValueError:\n",
    "            print(\"Please enter a valid integer.\")\n",
    "\n",
    "# function used to get a yes or no input from the user\n",
    "def get_yes(prompt):\n",
    "    while True:\n",
    "        choice = input(prompt).lower()\n",
    "        if choice == 'y':\n",
    "            return True\n",
    "        elif choice == 'n':\n",
    "            return False\n",
    "\n",
    "# function used to draw an owl with the given eye options, body and feet requirements with an optional randomization \n",
    "def draw_owl(position, randomize=False):\n",
    "    eye_options = ['{o,o}', '{-,o}', '{o,-}']\n",
    "    body = '/)_) '\n",
    "    feet = ' \" \" '\n",
    "    \n",
    "    # if randomize is true then a random eye option is selected from the options defined\n",
    "    if randomize:\n",
    "        eye = random.choice(eye_options)\n",
    "    else:\n",
    "        eye = eye_options[0]\n",
    "        \n",
    "    # prints each component of the owl with the specified position required\n",
    "    for _ in range(position):\n",
    "        print(\" \", end=\"\")\n",
    "    print (eye)\n",
    "    \n",
    "    for _ in range(position):\n",
    "        print(\" \", end=\"\")\n",
    "    print (body)\n",
    "    \n",
    "    for _ in range(position):\n",
    "        print(\" \", end=\"\")\n",
    "    print (feet)\n",
    "    \n",
    "# used to get user input for number of owl movements, delay time for printing, and randomizing option\n",
    "N = get_int_input(\"How many times to move [2-20] \", 2, 20)\n",
    "T = get_int_input(\"How long to delay [1-1000ms]? \", 1, 1000)\n",
    "randomize = get_yes(\"Randomize [Y/N]? \")\n",
    "\n",
    "# for loop created to loop through the specified number of owl movements\n",
    "for i in range(N):\n",
    "    draw_owl(i, randomize)\n",
    "    # delays for a specified time in milliseconds\n",
    "    time.sleep(T / 1000)"
   ]
  },
  {
   "cell_type": "markdown",
   "id": "e44ce167",
   "metadata": {},
   "source": [
    "# Question 2"
   ]
  },
  {
   "cell_type": "code",
   "execution_count": 24,
   "id": "fab70c3f",
   "metadata": {},
   "outputs": [
    {
     "name": "stdout",
     "output_type": "stream",
     "text": [
      "Input initial investment amount [1, 10000]? 5000\n",
      "Annual return rate [0-1]? 0.2\n",
      "How many years [1-10] 1\n",
      "Return in 1 year is: $ 6000.00\n",
      "Compute new investment [Y/N]? n\n"
     ]
    }
   ],
   "source": [
    "# function used to get a float input within a specific range by prompting the user to enter a value\n",
    "def get_float_input(prompt, min_value, max_value):\n",
    "    while True:\n",
    "        try:\n",
    "            value = float(input(prompt))\n",
    "            if min_value <= value <= max_value:\n",
    "                return value\n",
    "        except ValueError:\n",
    "            print(\"Please enter a valid float\")\n",
    "\n",
    "# function used to get an integer input within a specific range by prompting the user to enter a value\n",
    "def get_int_input(prompt, min_value, max_value):\n",
    "    while True:\n",
    "        try:\n",
    "            value = int(input(prompt))\n",
    "            if min_value <= value <= max_value:\n",
    "                return value\n",
    "        except ValueError:\n",
    "            print(\"Please enter a valid integer.\")\n",
    "            \n",
    "# function used to compute the return amount based on the initial investment, annual rate, and the number of years \n",
    "def compute_return(amount, rate, years):\n",
    "    for _ in range(years):\n",
    "        amount += amount * rate\n",
    "    return amount\n",
    "\n",
    "# function used to get a yes or no input from the user\n",
    "def get_yes(prompt):\n",
    "    while True:\n",
    "        choice = input(prompt).lower()\n",
    "        if choice == 'y':\n",
    "            return True\n",
    "        elif choice == 'n':\n",
    "            return False\n",
    "        \n",
    "# main loop for the investment calculation which prompts the user for the initial amounts acquired and returns the according values\n",
    "while True:\n",
    "    initial_investment = get_float_input(\"Input initial investment amount [1, 10000]? \", 1, 10000)\n",
    "    annual_rate = get_float_input(\"Annual return rate [0-1]? \", 0, 1)\n",
    "    years = get_int_input(\"How many years [1-10] \", 1, 10)\n",
    "    \n",
    "    result = compute_return(initial_investment, annual_rate, years)\n",
    "    \n",
    "    #if-else statement used to display the result based on the number of years\n",
    "    if years == 1:\n",
    "        print(f\"Return in 1 year is: $ {result:.2f}\")\n",
    "    else:\n",
    "        print(f\"Return in {years} years is: $ {result:.2f}\")\n",
    "    \n",
    "    # prompt to ask the user if they want to compute a new investment\n",
    "    repeat = get_yes(\"Compute new investment [Y/N]? \")\n",
    "    \n",
    "    # if statement used to exit the loop if the user does not want to compute a new investment\n",
    "    if not repeat:\n",
    "        break\n"
   ]
  },
  {
   "cell_type": "markdown",
   "id": "66ee39a7",
   "metadata": {},
   "source": [
    "# Question 3"
   ]
  },
  {
   "cell_type": "code",
   "execution_count": 26,
   "id": "247c9dc0",
   "metadata": {},
   "outputs": [
    {
     "name": "stdout",
     "output_type": "stream",
     "text": [
      "1/5 Enter a number [1-100]: 10\n",
      "2/5 Enter a number [1-100]: 10\n",
      "3/5 Enter a number [1-100]: 10\n",
      "4/5 Enter a number [1-100]: 10\n",
      "5/5 Enter a number [1-100]: 10\n",
      "Final max odd number: 1.\n"
     ]
    }
   ],
   "source": [
    "# varuable assigned to store the number of jumps\n",
    "num_of_jumps = None\n",
    "\n",
    "# function used to get an integer input within a specific range by prompting the user to enter a value\n",
    "def get_int_input(prompt, min_value, max_value):\n",
    "    while True:\n",
    "        try:\n",
    "            value = int(input(prompt))\n",
    "            if min_value <= value <= max_value:\n",
    "                return value\n",
    "        except ValueError:\n",
    "            print(\"Please enter a valid integer.\")\n",
    "\n",
    "# function created to find the maximum odd number based on user inputs\n",
    "def task3():\n",
    "    # global variable used to store the number of jumps\n",
    "    global num_of_jumps\n",
    "    \n",
    "    # variable used to initialize the maximum odd number\n",
    "    max_odd = 1\n",
    "    \n",
    "    # for loop used to move through 5 iterations to get different user inputs\n",
    "    for i in range(1, 6):\n",
    "        user_input = get_int_input(f\"{i}/5 Enter a number [1-100]: \", 1, 100)\n",
    "        \n",
    "        # if statement used to check if the input is odd and greater than the current maximum odd number\n",
    "        if user_input % 2 != 0 and user_input > max_odd:\n",
    "            max_odd = user_input\n",
    "            \n",
    "    # prints the final maximum odd number and sets the global variable to the maximum odd number\n",
    "    print(f\"Final max odd number: {max_odd}.\")\n",
    "    num_of_jumps = max_odd\n",
    "    \n",
    "# calls the task3 function to perform the code\n",
    "task3()"
   ]
  },
  {
   "cell_type": "markdown",
   "id": "ec912b83",
   "metadata": {},
   "source": [
    "# Question 4"
   ]
  },
  {
   "cell_type": "code",
   "execution_count": 37,
   "id": "ca04ba1e",
   "metadata": {},
   "outputs": [
    {
     "name": "stdout",
     "output_type": "stream",
     "text": [
      "\\o/   [  1]\n",
      " |\n",
      "/ \\\n",
      " o    [  2]\n",
      "/|\\\n",
      "| |\n",
      "\\o/   [  3]\n",
      " |\n",
      "/ \\\n",
      " o    [  4]\n",
      "/|\\\n",
      "| |\n",
      "\\o/   [  5]\n",
      " |\n",
      "/ \\\n",
      " o    [  6]\n",
      "/|\\\n",
      "| |\n",
      "\\o/   [  7]\n",
      " |\n",
      "/ \\\n"
     ]
    }
   ],
   "source": [
    "import time\n",
    "\n",
    "# initial value for the number of jumps is set to 7\n",
    "num_of_jumps = 7\n",
    "\n",
    "# frame variables are set for two different positions of jumping jacks\n",
    "frame1 = f\"\\o/   [  {{}}]\\n |\\n/ \\\\\"\n",
    "frame2 = f\" o    [  {{}}]\\n/|\\\\\\n| |\"\n",
    "\n",
    "# function used to simulate a jumping jack position with alternating frames\n",
    "def task4():\n",
    "    \n",
    "    # for loop used to loop through the specified number of jumps\n",
    "    for i in range(1, num_of_jumps + 1):\n",
    "        \n",
    "        # if statement used to choose the frame based on whther the jump number is odd or even\n",
    "        if i % 2 == 1:\n",
    "            print(frame1.format(i))\n",
    "        else:\n",
    "            print(frame2.format(i))\n",
    "            \n",
    "        # delay of 0.3 seconds between frames is set to watch the animation better\n",
    "        time.sleep(0.3)\n",
    "        \n",
    "# calling task4 function to execute the code\n",
    "task4()"
   ]
  }
 ],
 "metadata": {
  "kernelspec": {
   "display_name": "Python 3 (ipykernel)",
   "language": "python",
   "name": "python3"
  },
  "language_info": {
   "codemirror_mode": {
    "name": "ipython",
    "version": 3
   },
   "file_extension": ".py",
   "mimetype": "text/x-python",
   "name": "python",
   "nbconvert_exporter": "python",
   "pygments_lexer": "ipython3",
   "version": "3.11.4"
  }
 },
 "nbformat": 4,
 "nbformat_minor": 5
}
